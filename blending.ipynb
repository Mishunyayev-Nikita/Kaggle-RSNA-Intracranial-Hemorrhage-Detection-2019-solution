{
 "cells": [
  {
   "cell_type": "code",
   "execution_count": 3,
   "metadata": {
    "_cell_guid": "79c7e3d0-c299-4dcb-8224-4455121ee9b0",
    "_uuid": "d629ff2d2480ee46fbb7e2d37f6b5fab8052498a"
   },
   "outputs": [],
   "source": [
    "import pandas as pd\n",
    "import numpy as np"
   ]
  },
  {
   "cell_type": "markdown",
   "metadata": {},
   "source": [
    "## Config"
   ]
  },
  {
   "cell_type": "code",
   "execution_count": 5,
   "metadata": {},
   "outputs": [],
   "source": [
    "config = {\n",
    "    'PATH_DATA': 'data/',\n",
    "    'PATH_WEIGHTS': '/home/jupyter/Nikita/',\n",
    "}"
   ]
  },
  {
   "cell_type": "markdown",
   "metadata": {},
   "source": [
    "## Predictions"
   ]
  },
  {
   "cell_type": "code",
   "execution_count": 7,
   "metadata": {},
   "outputs": [],
   "source": [
    "submission = pd.read_csv(config['PATH_DATA']+\"stage_1_sample_submission.csv\")\n",
    "\n",
    "fname = 'predictions/{0}_{1}_lr{2}_TTA_D4.npy'\n",
    "preds_b0 = np.load(fname.format('EffnetB0-fp16-HardAugs', 8, '1e-4'))\n",
    "preds_b5 = np.load(fname.format('EffnetB5-fp16-HardAugs-FineTuning-PL2', 5, '1e-5'))\n",
    "preds_b0_224 = np.load(fname.format('EffnetB0-224x224-fp16-EXP1', 6, '1e-4'))\n",
    "preds_resnext101 = np.load(fname.format('ResNext101_32x4d-RAdam-fp16', 6, '1e-4'))\n",
    "\n",
    "fold_fname_with_tta_d4 = 'predictions/{0}_{1}fold_{2}_lr{3}_TTA_D4.npy'\n",
    "preds_b2_fold0_tta = np.load(fold_fname_with_tta_d4.format('EffnetB2-Adam-fp16-AppianWindows-HardAugs', 0, 5, '1e-4'))\n",
    "preds_b2_fold1_tta = np.load(fold_fname_with_tta_d4.format('EffnetB2-Adam-fp16-AppianWindows-HardAugs', 1, 5, '1e-4'))\n",
    "preds_b2_fold2_tta = np.load(fold_fname_with_tta_d4.format('EffnetB2-Adam-fp16-AppianWindows-HardAugs', 2, 5, '1e-4'))\n",
    "preds_b2_fold3_tta = np.load(fold_fname_with_tta_d4.format('EffnetB2-Adam-fp16-AppianWindows-HardAugs', 3, 5, '1e-4'))\n",
    "preds_b2_fold4_tta = np.load(fold_fname_with_tta_d4.format('EffnetB2-Adam-fp16-AppianWindows-HardAugs', 4, 5, '1e-4'))"
   ]
  },
  {
   "cell_type": "markdown",
   "metadata": {},
   "source": [
    "#### The correlation between each prediction about 0.96-0.99"
   ]
  },
  {
   "cell_type": "code",
   "execution_count": 8,
   "metadata": {},
   "outputs": [
    {
     "data": {
      "text/html": [
       "<div>\n",
       "<style scoped>\n",
       "    .dataframe tbody tr th:only-of-type {\n",
       "        vertical-align: middle;\n",
       "    }\n",
       "\n",
       "    .dataframe tbody tr th {\n",
       "        vertical-align: top;\n",
       "    }\n",
       "\n",
       "    .dataframe thead th {\n",
       "        text-align: right;\n",
       "    }\n",
       "</style>\n",
       "<table border=\"1\" class=\"dataframe\">\n",
       "  <thead>\n",
       "    <tr style=\"text-align: right;\">\n",
       "      <th></th>\n",
       "      <th>Label</th>\n",
       "    </tr>\n",
       "    <tr>\n",
       "      <th>htype</th>\n",
       "      <th></th>\n",
       "    </tr>\n",
       "  </thead>\n",
       "  <tbody>\n",
       "    <tr>\n",
       "      <td>any</td>\n",
       "      <td>0.144030</td>\n",
       "    </tr>\n",
       "    <tr>\n",
       "      <td>epidural</td>\n",
       "      <td>0.006161</td>\n",
       "    </tr>\n",
       "    <tr>\n",
       "      <td>intraparenchymal</td>\n",
       "      <td>0.041656</td>\n",
       "    </tr>\n",
       "    <tr>\n",
       "      <td>intraventricular</td>\n",
       "      <td>0.030294</td>\n",
       "    </tr>\n",
       "    <tr>\n",
       "      <td>subarachnoid</td>\n",
       "      <td>0.043745</td>\n",
       "    </tr>\n",
       "    <tr>\n",
       "      <td>subdural</td>\n",
       "      <td>0.053601</td>\n",
       "    </tr>\n",
       "  </tbody>\n",
       "</table>\n",
       "</div>"
      ],
      "text/plain": [
       "                     Label\n",
       "htype                     \n",
       "any               0.144030\n",
       "epidural          0.006161\n",
       "intraparenchymal  0.041656\n",
       "intraventricular  0.030294\n",
       "subarachnoid      0.043745\n",
       "subdural          0.053601"
      ]
     },
     "execution_count": 8,
     "metadata": {},
     "output_type": "execute_result"
    }
   ],
   "source": [
    "preds = (preds_b2_fold0_tta+preds_b2_fold1_tta+preds_b2_fold2_tta+preds_b2_fold3_tta+preds_b2_fold4_tta)/5*0.4 + preds_b5*0.2 + preds_b0*0.2 + preds_b0_224*0.1 + preds_resnext101*0.1\n",
    "submission.Label = np.roll(preds, -1, axis=1).reshape(-1)\n",
    "submission['htype'] = submission[\"ID\"].str.split(\"_\", n=2, expand=True)[2]\n",
    "submission[['ID', 'Label']].to_csv(\"submits/cvb2_tta_mean_b5_b0_b0224_resnext.csv\", index=False)\n",
    "submission.groupby('htype').mean().head(6)"
   ]
  },
  {
   "cell_type": "markdown",
   "metadata": {},
   "source": [
    "---"
   ]
  },
  {
   "cell_type": "code",
   "execution_count": 9,
   "metadata": {},
   "outputs": [
    {
     "data": {
      "text/html": [
       "<div>\n",
       "<style scoped>\n",
       "    .dataframe tbody tr th:only-of-type {\n",
       "        vertical-align: middle;\n",
       "    }\n",
       "\n",
       "    .dataframe tbody tr th {\n",
       "        vertical-align: top;\n",
       "    }\n",
       "\n",
       "    .dataframe thead th {\n",
       "        text-align: right;\n",
       "    }\n",
       "</style>\n",
       "<table border=\"1\" class=\"dataframe\">\n",
       "  <thead>\n",
       "    <tr style=\"text-align: right;\">\n",
       "      <th></th>\n",
       "      <th>Label</th>\n",
       "    </tr>\n",
       "    <tr>\n",
       "      <th>htype</th>\n",
       "      <th></th>\n",
       "    </tr>\n",
       "  </thead>\n",
       "  <tbody>\n",
       "    <tr>\n",
       "      <td>any</td>\n",
       "      <td>0.142090</td>\n",
       "    </tr>\n",
       "    <tr>\n",
       "      <td>epidural</td>\n",
       "      <td>0.006743</td>\n",
       "    </tr>\n",
       "    <tr>\n",
       "      <td>intraparenchymal</td>\n",
       "      <td>0.041235</td>\n",
       "    </tr>\n",
       "    <tr>\n",
       "      <td>intraventricular</td>\n",
       "      <td>0.029985</td>\n",
       "    </tr>\n",
       "    <tr>\n",
       "      <td>subarachnoid</td>\n",
       "      <td>0.043652</td>\n",
       "    </tr>\n",
       "    <tr>\n",
       "      <td>subdural</td>\n",
       "      <td>0.052209</td>\n",
       "    </tr>\n",
       "  </tbody>\n",
       "</table>\n",
       "</div>"
      ],
      "text/plain": [
       "                     Label\n",
       "htype                     \n",
       "any               0.142090\n",
       "epidural          0.006743\n",
       "intraparenchymal  0.041235\n",
       "intraventricular  0.029985\n",
       "subarachnoid      0.043652\n",
       "subdural          0.052209"
      ]
     },
     "execution_count": 9,
     "metadata": {},
     "output_type": "execute_result"
    }
   ],
   "source": [
    "preds = (preds_b2_fold0_tta+preds_b2_fold1_tta+preds_b2_fold2_tta+preds_b2_fold3_tta+preds_b2_fold4_tta)/5*0.2 + preds_b5*0.2 + preds_b0*0.2 + preds_b0_224*0.2 + preds_resnext101*0.2\n",
    "submission.Label = np.roll(preds, -1, axis=1).reshape(-1)\n",
    "submission['htype'] = submission[\"ID\"].str.split(\"_\", n=2, expand=True)[2]\n",
    "submission[['ID', 'Label']].to_csv(\"submits/cvb2_tta_mean_b5_b0_b0224_resnext_mean.csv\", index=False)\n",
    "submission.groupby('htype').mean().head(6)"
   ]
  },
  {
   "cell_type": "code",
   "execution_count": null,
   "metadata": {},
   "outputs": [],
   "source": []
  }
 ],
 "metadata": {
  "kernelspec": {
   "display_name": "Python 3",
   "language": "python",
   "name": "python3"
  },
  "language_info": {
   "codemirror_mode": {
    "name": "ipython",
    "version": 3
   },
   "file_extension": ".py",
   "mimetype": "text/x-python",
   "name": "python",
   "nbconvert_exporter": "python",
   "pygments_lexer": "ipython3",
   "version": "3.7.1"
  }
 },
 "nbformat": 4,
 "nbformat_minor": 4
}
